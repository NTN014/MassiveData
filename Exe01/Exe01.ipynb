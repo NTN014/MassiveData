{
  "nbformat": 4,
  "nbformat_minor": 0,
  "metadata": {
    "colab": {
      "provenance": []
    },
    "kernelspec": {
      "name": "python3",
      "display_name": "Python 3"
    },
    "language_info": {
      "name": "python"
    }
  },
  "cells": [
    {
      "cell_type": "code",
      "source": [
        "!apt-get install openjdk-8-jdk-headless -qq > /dev/null\n",
        "# !wget -q http://archive.apache.org/dist/spark/spark-3.1.1/spark-3.1.1-bin-hadoop3.2.tgz\n",
        "!cp drive/MyDrive/MMDS-data/spark-3.1.1-bin-hadoop3.2.tgz .\n",
        "!tar xf spark-3.1.1-bin-hadoop3.2.tgz\n",
        "!pip install -q findspark"
      ],
      "metadata": {
        "id": "ni7I7BFf7hFZ"
      },
      "execution_count": null,
      "outputs": []
    },
    {
      "cell_type": "code",
      "source": [
        "import os\n",
        "os.environ[\"JAVA_HOME\"] = \"/usr/lib/jvm/java-8-openjdk-amd64\"\n",
        "os.environ[\"SPARK_HOME\"] = \"/content/spark-3.1.1-bin-hadoop3.2\""
      ],
      "metadata": {
        "id": "WzRQkaHPFvgI"
      },
      "execution_count": null,
      "outputs": []
    },
    {
      "cell_type": "code",
      "source": [
        "!echo $SPARK_HOME"
      ],
      "metadata": {
        "colab": {
          "base_uri": "https://localhost:8080/"
        },
        "id": "cwuuOkZVFxsj",
        "outputId": "be631074-ce21-4869-d567-afa0db5f919d"
      },
      "execution_count": null,
      "outputs": [
        {
          "output_type": "stream",
          "name": "stdout",
          "text": [
            "/content/spark-3.1.1-bin-hadoop3.2\n"
          ]
        }
      ]
    },
    {
      "cell_type": "code",
      "source": [
        "import findspark\n",
        "findspark.init()"
      ],
      "metadata": {
        "id": "GsQPherbFyWa"
      },
      "execution_count": null,
      "outputs": []
    },
    {
      "cell_type": "code",
      "source": [
        "# Import PySpark\n",
        "from pyspark.sql import SparkSession\n",
        "\n",
        "# Create SparkSession\n",
        "spark = SparkSession.builder.appName(\"PySpark Example\").getOrCreate()"
      ],
      "metadata": {
        "id": "cO8g9CpOFrzc"
      },
      "execution_count": null,
      "outputs": []
    },
    {
      "cell_type": "code",
      "source": [
        "# Read csv file into DataFrame\n",
        "df = spark.read.csv(\"baskets01.csv\", header=True, sep =\";\")\n",
        "\n",
        "# Show first 5 rows\n",
        "df.show(5)"
      ],
      "metadata": {
        "colab": {
          "base_uri": "https://localhost:8080/"
        },
        "id": "V59LtGgDGC4j",
        "outputId": "a95f1216-2c12-4e7f-fb68-1798d3bd4438"
      },
      "execution_count": null,
      "outputs": [
        {
          "output_type": "stream",
          "name": "stdout",
          "text": [
            "+------+--------------------+--------+----------------+-----+----------+--------------+\n",
            "|BillNo|            Itemname|Quantity|            Date|Price|CustomerID|       Country|\n",
            "+------+--------------------+--------+----------------+-----+----------+--------------+\n",
            "|536365|WHITE HANGING HEA...|       6|01.12.2010 08:26| 2,55|     17850|United Kingdom|\n",
            "|536365| WHITE METAL LANTERN|       6|01.12.2010 08:26| 3,39|     17850|United Kingdom|\n",
            "|536365|CREAM CUPID HEART...|       8|01.12.2010 08:26| 2,75|     17850|United Kingdom|\n",
            "|536365|KNITTED UNION FLA...|       6|01.12.2010 08:26| 3,39|     17850|United Kingdom|\n",
            "|536365|RED WOOLLY HOTTIE...|       6|01.12.2010 08:26| 3,39|     17850|United Kingdom|\n",
            "+------+--------------------+--------+----------------+-----+----------+--------------+\n",
            "only showing top 5 rows\n",
            "\n"
          ]
        }
      ]
    },
    {
      "cell_type": "code",
      "source": [
        "from pyspark.sql import functions as F\n",
        "df2 = df.groupBy(\"BillNo\").agg(F.collect_list(\"Itemname\").alias(\"products\"))\n",
        "\n",
        "df2 = df2.withColumn(\"products\",F.concat_ws(\",\",\"products\"))\n",
        "\n",
        "# Show first 5 rows\n",
        "df2.show()"
      ],
      "metadata": {
        "colab": {
          "base_uri": "https://localhost:8080/"
        },
        "id": "8y2op6OjG-DD",
        "outputId": "8491a0e2-3b83-4dd6-9266-357afb8020b4"
      },
      "execution_count": null,
      "outputs": [
        {
          "output_type": "stream",
          "name": "stdout",
          "text": [
            "+------+--------------------+\n",
            "|BillNo|            products|\n",
            "+------+--------------------+\n",
            "|536596|VINTAGE UNION JAC...|\n",
            "|536938|JUMBO BAG PINK PO...|\n",
            "|537252|SMALL POPCORN HOLDER|\n",
            "|537691|T-LIGHT GLASS FLU...|\n",
            "|538041|                    |\n",
            "|538184|PACK OF 6 BIRDY G...|\n",
            "|538517|PACK OF 12 COLOUR...|\n",
            "|538879|DANISH ROSE ROUND...|\n",
            "|539275|SET OF 20 VINTAGE...|\n",
            "|539630|CHICK GREY HOT WA...|\n",
            "|540499|POTTING SHED TEA ...|\n",
            "|540540|HOME SWEET HOME M...|\n",
            "|540976|PAPERWEIGHT KINGS...|\n",
            "|541432|RETROSPOT HEART H...|\n",
            "|541518|RED RETROSPOT TAP...|\n",
            "|541783|REGENCY CAKESTAND...|\n",
            "|542026|HOME BUILDING BLO...|\n",
            "|542375|RED TOADSTOOL LED...|\n",
            "|543641|WHITE HANGING HEA...|\n",
            "|544303|DOORMAT I LOVE LO...|\n",
            "+------+--------------------+\n",
            "only showing top 20 rows\n",
            "\n"
          ]
        }
      ]
    },
    {
      "cell_type": "code",
      "source": [
        "!rm -rf baskets-df.csv/\n",
        "df2.write.csv(\"baskets-df.csv\")\n"
      ],
      "metadata": {
        "id": "XhwTWuuAIWg6"
      },
      "execution_count": null,
      "outputs": []
    },
    {
      "cell_type": "code",
      "source": [
        "df1 = spark.read.csv(\"baskets-df.csv\")\n",
        "\n",
        "# Read CSV file using format method\n",
        "df2 = spark.read.format(\"csv\").load(\"baskets-df.csv\")\n",
        "df3 = spark.read.option(\"header\", True).csv(\"baskets-df.csv\")\n",
        "\n",
        "# Rename columns after reading\n",
        "df4 = df1.withColumnRenamed(\"_c0\", \"BillNo\").withColumnRenamed(\"_c1\", \"products\")\n",
        "df4.show()"
      ],
      "metadata": {
        "colab": {
          "base_uri": "https://localhost:8080/"
        },
        "id": "uqA_4KMhy9hj",
        "outputId": "b4a8477e-615c-4c2c-b4b6-f3f623af6327"
      },
      "execution_count": null,
      "outputs": [
        {
          "output_type": "stream",
          "name": "stdout",
          "text": [
            "+------+--------------------+\n",
            "|BillNo|            products|\n",
            "+------+--------------------+\n",
            "|536778|PORCELAIN ROSE SM...|\n",
            "|537240|SET/5 RED RETROSP...|\n",
            "|537382|ALARM CLOCK BAKEL...|\n",
            "|537692|RED HANGING HEART...|\n",
            "|538072|              faulty|\n",
            "|538126|ENAMEL MEASURING ...|\n",
            "|538527|PARTY CONE CHRIST...|\n",
            "|538534|HAND WARMER BABUS...|\n",
            "|538935|CREAM HEART CARD ...|\n",
            "|539286|CHRISTMAS LIGHTS ...|\n",
            "|539296|CLOTHES PEGS RETR...|\n",
            "|539374|SET OF 6 SPICE TI...|\n",
            "|540413|PARTY BUNTING,SMA...|\n",
            "|541012|WRAP ALPHABET DES...|\n",
            "|541218|HEARTS GIFT TAPE,...|\n",
            "|541703|LUNCH BAG CARS BL...|\n",
            "|541808|              Manual|\n",
            "|542001|PINK/YELLOW FLOWE...|\n",
            "|542145|SET/4 WHITE RETRO...|\n",
            "|542432|DOORMAT FANCY FON...|\n",
            "+------+--------------------+\n",
            "only showing top 20 rows\n",
            "\n"
          ]
        }
      ]
    },
    {
      "cell_type": "code",
      "source": [
        "from pyspark.sql import functions as F\n",
        "\n",
        "# Convert a string column into an array column by splitting on comma\n",
        "df = df4.withColumn(\"products\", F.split(\"products\", \",\"))\n",
        "df = df.withColumn(\"products\", F.array_distinct(\"products\"))\n",
        "# Show the schema and first 5 rows of the data frame\n",
        "df.printSchema()\n",
        "df.show()"
      ],
      "metadata": {
        "colab": {
          "base_uri": "https://localhost:8080/"
        },
        "id": "-WamakmU4yec",
        "outputId": "1e6e4052-2ba5-495c-dc1a-b886ae640e66"
      },
      "execution_count": null,
      "outputs": [
        {
          "output_type": "stream",
          "name": "stdout",
          "text": [
            "root\n",
            " |-- BillNo: string (nullable = true)\n",
            " |-- products: array (nullable = true)\n",
            " |    |-- element: string (containsNull = true)\n",
            "\n",
            "+------+--------------------+\n",
            "|BillNo|            products|\n",
            "+------+--------------------+\n",
            "|536778|[PORCELAIN ROSE S...|\n",
            "|537240|[SET/5 RED RETROS...|\n",
            "|537382|[ALARM CLOCK BAKE...|\n",
            "|537692|[RED HANGING HEAR...|\n",
            "|538072|            [faulty]|\n",
            "|538126|[ENAMEL MEASURING...|\n",
            "|538527|[PARTY CONE CHRIS...|\n",
            "|538534|[HAND WARMER BABU...|\n",
            "|538935|[CREAM HEART CARD...|\n",
            "|539286|[CHRISTMAS LIGHTS...|\n",
            "|539296|[CLOTHES PEGS RET...|\n",
            "|539374|[SET OF 6 SPICE T...|\n",
            "|540413|[PARTY BUNTING, S...|\n",
            "|541012|[WRAP ALPHABET DE...|\n",
            "|541218|[HEARTS GIFT TAPE...|\n",
            "|541703|[LUNCH BAG CARS B...|\n",
            "|541808|            [Manual]|\n",
            "|542001|[PINK/YELLOW FLOW...|\n",
            "|542145|[SET/4 WHITE RETR...|\n",
            "|542432|[DOORMAT FANCY FO...|\n",
            "+------+--------------------+\n",
            "only showing top 20 rows\n",
            "\n"
          ]
        }
      ]
    },
    {
      "cell_type": "code",
      "source": [
        "from pyspark.ml.fpm import FPGrowth\n",
        "\n",
        "# Create an instance of FPGrowth with minSupport=0.01, minConfidence=0.3 and maxPatternLength=2\n",
        "fpGrowth = FPGrowth(itemsCol=\"products\", minSupport=0.01, minConfidence=0.3)\n",
        "model = fpGrowth.fit(df)\n",
        "model.freqItemsets.show()\n",
        "model.associationRules.show()"
      ],
      "metadata": {
        "colab": {
          "base_uri": "https://localhost:8080/"
        },
        "id": "Gr_1DF-_3MUx",
        "outputId": "91304c89-d7d2-49fc-df9f-9792b05d876d"
      },
      "execution_count": null,
      "outputs": [
        {
          "output_type": "stream",
          "name": "stdout",
          "text": [
            "+--------------------+----+\n",
            "|               items|freq|\n",
            "+--------------------+----+\n",
            "|[PACK OF 60 SPACE...| 503|\n",
            "|[PACK OF 60 SPACE...| 204|\n",
            "|[PACK OF 60 SPACE...| 291|\n",
            "|[PACK OF 60 SPACE...| 218|\n",
            "|[JAM JAR WITH GRE...| 298|\n",
            "|[JAM JAR WITH GRE...| 221|\n",
            "|[ALARM CLOCK BAKE...| 435|\n",
            "|[ALARM CLOCK BAKE...| 269|\n",
            "|[ALARM CLOCK BAKE...| 205|\n",
            "|[ALARM CLOCK BAKE...| 209|\n",
            "|[ALARM CLOCK BAKE...| 295|\n",
            "|[COLOUR GLASS T-L...| 606|\n",
            "|[QUEENS GUARD COF...| 272|\n",
            "|[PLAYING CARDS KE...| 333|\n",
            "|      [ FRONT  DOOR]| 209|\n",
            "|[ FRONT  DOOR, KE...| 209|\n",
            "|[ROUND CAKE TIN V...| 205|\n",
            "|[FANCY FONT BIRTH...| 320|\n",
            "|[FANCY FONT BIRTH...| 320|\n",
            "|[ROUND SNACK BOXE...| 723|\n",
            "+--------------------+----+\n",
            "only showing top 20 rows\n",
            "\n",
            "+--------------------+--------------------+-------------------+------------------+--------------------+\n",
            "|          antecedent|          consequent|         confidence|              lift|             support|\n",
            "+--------------------+--------------------+-------------------+------------------+--------------------+\n",
            "|[DOTCOM POSTAGE, ...|[JUMBO SHOPPER VI...| 0.6434782608695652| 11.15215154001044|0.010985748218527316|\n",
            "|[DOTCOM POSTAGE, ...|[JUMBO BAG WOODLA...| 0.6666666666666666|15.775175644028103|0.011381631037212984|\n",
            "|[DOTCOM POSTAGE, ...|[JUMBO BAG RED RE...| 0.8028985507246377| 7.860936973373779| 0.01370744259699129|\n",
            "|[DOTCOM POSTAGE, ...|[JUMBO STORAGE BA...| 0.6753623188405797| 11.58550232523806| 0.01153008709422011|\n",
            "|[VINTAGE HEADS AN...|[VINTAGE SNAP CARDS]| 0.5630252100840336|12.914430698499604|0.016577593032462392|\n",
            "|[ALARM CLOCK BAKE...|[ALARM CLOCK BAKE...| 0.6183908045977011|12.922896979638411|0.013311559778305622|\n",
            "|[ALARM CLOCK BAKE...|[ALARM CLOCK BAKE...| 0.4804597701149425|12.792003998000999|0.010342438638163103|\n",
            "|[ALARM CLOCK BAKE...|[ALARM CLOCK BAKE...| 0.6781609195402298|13.343988181177181|0.014598178939034047|\n",
            "|[LUNCH BAG PINK P...|[LUNCH BAG SUKI D...| 0.4798387096774194| 8.994972769166319|0.011777513855898654|\n",
            "|[LUNCH BAG PINK P...|[LUNCH BAG  BLACK...| 0.6189516129032258| 9.926804915514593|0.015192003167062549|\n",
            "|[LUNCH BAG PINK P...|[LUNCH BAG SPACEB...| 0.5241935483870968| 9.235312315437186|0.012866191607284245|\n",
            "|[LUNCH BAG PINK P...|[LUNCH BAG RED RE...| 0.6370967741935484|  8.35460844445375|0.015637371338083926|\n",
            "|[LUNCH BAG PINK P...|[LUNCH BAG WOODLAND]| 0.4737903225806452| 9.536209998714819|0.011629057798891528|\n",
            "|   [ SHED, KEY FOB ]|        [ BACK DOOR]| 0.5645161290322581|37.038123167155426|0.010391923990498812|\n",
            "|                  []|[FANCY FONT BIRTH...| 0.5460750853242321| 34.48464163822526| 0.01583531274742676|\n",
            "|[LUNCH BAG SUKI D...|[LUNCH BAG APPLE ...|0.41280148423005564| 8.162321324188811| 0.02202098178939034|\n",
            "|[LUNCH BAG SUKI D...|[LUNCH BAG  BLACK...| 0.4749536178107607| 7.617351356126867|0.025336500395882817|\n",
            "|[LUNCH BAG SUKI D...|[LUNCH BAG SPACEB...| 0.4202226345083488| 7.403538795243865|0.022416864608076008|\n",
            "|[LUNCH BAG SUKI D...|[LUNCH BAG RED RE...| 0.5139146567717996| 6.739252033773217| 0.02741488519398258|\n",
            "|[LUNCH BAG SUKI D...|[LUNCH BAG CARS B...| 0.4332096474953618| 7.733481057055009| 0.02310965954077593|\n",
            "+--------------------+--------------------+-------------------+------------------+--------------------+\n",
            "only showing top 20 rows\n",
            "\n"
          ]
        }
      ]
    },
    {
      "cell_type": "code",
      "source": [],
      "metadata": {
        "id": "fJAcYn1d1LkQ"
      },
      "execution_count": null,
      "outputs": []
    }
  ]
}
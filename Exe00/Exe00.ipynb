{
  "nbformat": 4,
  "nbformat_minor": 0,
  "metadata": {
    "colab": {
      "provenance": []
    },
    "kernelspec": {
      "name": "python3",
      "display_name": "Python 3"
    },
    "language_info": {
      "name": "python"
    }
  },
  "cells": [
    {
      "cell_type": "code",
      "execution_count": null,
      "metadata": {
        "id": "cQiswpDlD-n_"
      },
      "outputs": [],
      "source": [
        "!apt-get install openjdk-8-jdk-headless -qq > /dev/null\n",
        "# !wget -q http://archive.apache.org/dist/spark/spark-3.1.1/spark-3.1.1-bin-hadoop3.2.tgz\n",
        "!cp drive/MyDrive/MMDS-data/spark-3.1.1-bin-hadoop3.2.tgz .\n",
        "!tar xf spark-3.1.1-bin-hadoop3.2.tgz\n",
        "!pip install -q findspark"
      ]
    },
    {
      "cell_type": "code",
      "source": [
        "import os\n",
        "os.environ[\"JAVA_HOME\"] = \"/usr/lib/jvm/java-8-openjdk-amd64\"\n",
        "os.environ[\"SPARK_HOME\"] = \"/content/spark-3.1.1-bin-hadoop3.2\""
      ],
      "metadata": {
        "id": "jp4JYrgcEMyZ"
      },
      "execution_count": null,
      "outputs": []
    },
    {
      "cell_type": "code",
      "source": [
        "! echo $SPARK_HOME"
      ],
      "metadata": {
        "colab": {
          "base_uri": "https://localhost:8080/"
        },
        "id": "68LB7-zrEOu7",
        "outputId": "97538c62-6a83-41f2-b07c-0a26d88cba76"
      },
      "execution_count": null,
      "outputs": [
        {
          "output_type": "stream",
          "name": "stdout",
          "text": [
            "/content/spark-3.1.1-bin-hadoop3.2\n"
          ]
        }
      ]
    },
    {
      "cell_type": "code",
      "source": [
        "import findspark\n",
        "findspark.init()"
      ],
      "metadata": {
        "id": "YwTtJWG3HaG6"
      },
      "execution_count": null,
      "outputs": []
    },
    {
      "cell_type": "code",
      "source": [
        "from pyspark import SparkContext\n",
        "\n",
        "sc = SparkContext(\"local\", \"4a\")"
      ],
      "metadata": {
        "id": "Dt49suzvHtgo"
      },
      "execution_count": null,
      "outputs": []
    },
    {
      "cell_type": "code",
      "source": [
        "sc = SparkContext.getOrCreate(\"local\")"
      ],
      "metadata": {
        "id": "9mdqQ1YTHwYU"
      },
      "execution_count": null,
      "outputs": []
    },
    {
      "cell_type": "code",
      "source": [
        "data = sc.textFile('/content/WHO-COVID-19-global.csv')\n",
        "header = data.first()\n",
        "data = data.filter(lambda line:line != header)"
      ],
      "metadata": {
        "id": "uD7eKZ_BHxaX"
      },
      "execution_count": null,
      "outputs": []
    },
    {
      "cell_type": "code",
      "source": [
        "def preprocessLine(x):\n",
        "  items = x.strip().split(',')[1:]\n",
        "  region = items[0]\n",
        "  values = [float(it) for it in items[1:]]\n",
        "  return (region, values)\n",
        "\n",
        "import numpy as np\n",
        "def sumAll(x, y):\n",
        "  x = np.array(x)\n",
        "  y = np.array(y)\n",
        "  return list(x + y)\n",
        "\n"
      ],
      "metadata": {
        "id": "WWQh0YZ3IH4O"
      },
      "execution_count": null,
      "outputs": []
    },
    {
      "cell_type": "code",
      "source": [
        "!rm -rf result/\n",
        "result = data.map(preprocessLine).reduceByKey(sumAll)"
      ],
      "metadata": {
        "id": "9mIZN1pYIOF5"
      },
      "execution_count": null,
      "outputs": []
    },
    {
      "cell_type": "code",
      "source": [
        "for i in result.collect():\n",
        "  print(i)"
      ],
      "metadata": {
        "colab": {
          "base_uri": "https://localhost:8080/"
        },
        "id": "2pcxrwFGcPoF",
        "outputId": "d6e81c2c-88a3-4687-9d1b-c2230a388293"
      },
      "execution_count": null,
      "outputs": [
        {
          "output_type": "stream",
          "name": "stdout",
          "text": [
            "('Americas', [176342137.0, 1208742.0069999995, 696441.0, 4434.753, 28836.0, 2821706.0, 9417.268, 4500.0, 13.143, 136.0])\n",
            "('South-East Asia', [60084208.0, 65053.017, 82449.0, 61.922999999999995, 10916.0, 796201.0, 385.42699999999996, 531.0, 0.4210000000000001, 70.0])\n",
            "('Europe', [249105808.0, 2038171.577, 988960.0, 5609.703000000002, 182316.0, 2080678.0, 13557.154999999997, 2626.0, 24.577999999999996, 523.0])\n",
            "('Western Pacific', [85868508.0, 607137.069, 1806067.0, 5451.098000000001, 247343.0, 263345.0, 1600.8790000000001, 3555.0, 6.974, 514.0])\n",
            "('Eastern Mediterranean', [22308851.0, 164737.953, 27835.0, 355.088, 2933.0, 342137.0, 1349.9960000000003, 297.0, 0.6570000000000001, 33.0])\n",
            "('Africa', [9298893.0, 203666.50600000008, 10542.0, 935.7560000000001, 238.0, 174350.0, 1435.9070000000002, 42.0, 1.535, 1.0])\n",
            "('Other', [764.0, 0.0, 0.0, 0.0, 0.0, 13.0, 0.0, 0.0, 0.0, 0.0])\n"
          ]
        }
      ]
    },
    {
      "cell_type": "code",
      "source": [
        "import numpy as np\n",
        "\n",
        "a = np.array([1, 2])\n",
        "b = np.array([2, 3])\n",
        "print(a+b)"
      ],
      "metadata": {
        "colab": {
          "base_uri": "https://localhost:8080/"
        },
        "id": "IKNAVYgAIar0",
        "outputId": "66b5e5a1-f142-4391-f722-d05cf99d4d2c"
      },
      "execution_count": null,
      "outputs": [
        {
          "output_type": "stream",
          "name": "stdout",
          "text": [
            "[3 5]\n"
          ]
        }
      ]
    },
    {
      "cell_type": "code",
      "source": [
        "from pyspark import SparkContext\n",
        "from pyspark.sql import SQLContext\n",
        "\n",
        "sc = SparkContext.getOrCreate('local')\n",
        "sqlc = SQLContext(sc)"
      ],
      "metadata": {
        "id": "n2OIICOzIcST"
      },
      "execution_count": null,
      "outputs": []
    },
    {
      "cell_type": "code",
      "source": [
        "df = sqlc.read.option(\"header\", True) \\\n",
        "  .option(\"delimiter\", \",\") \\\n",
        "  .option(\"inferSchema\", True) \\\n",
        "  .csv('/content/WHO-COVID-19-global.csv')\n",
        "\n",
        "df.show()"
      ],
      "metadata": {
        "colab": {
          "base_uri": "https://localhost:8080/"
        },
        "id": "bH6pBNgIImf9",
        "outputId": "0352c18d-708b-4b55-8373-c6698a6c834f"
      },
      "execution_count": null,
      "outputs": [
        {
          "output_type": "stream",
          "name": "stdout",
          "text": [
            "+--------------------+--------------------+------------------------+----------------------------------------------+-------------------------------------+-----------------------------------------------------------+---------------------------------------+-------------------------+-----------------------------------------------+--------------------------------------+------------------------------------------------------------+----------------------------------------+\n",
            "|                Name|          WHO Region|Cases - cumulative total|Cases - cumulative total per 100000 population|Cases - newly reported in last 7 days|Cases - newly reported in last 7 days per 100000 population|Cases - newly reported in last 24 hours|Deaths - cumulative total|Deaths - cumulative total per 100000 population|Deaths - newly reported in last 7 days|Deaths - newly reported in last 7 days per 100000 population|Deaths - newly reported in last 24 hours|\n",
            "+--------------------+--------------------+------------------------+----------------------------------------------+-------------------------------------+-----------------------------------------------------------+---------------------------------------+-------------------------+-----------------------------------------------+--------------------------------------+------------------------------------------------------------+----------------------------------------+\n",
            "|United States of ...|            Americas|                93580725|                                     28271.896|                               476675|                                                    144.009|                                  25686|                  1036949|                                        313.275|                                  2423|                                                       0.732|                                      67|\n",
            "|               India|     South-East Asia|                44472241|                                      3222.616|                                43848|                                                      3.177|                                   5379|                   528057|                                         38.265|                                   183|                                                       0.013|                                      27|\n",
            "|              Brazil|            Americas|                34477539|                                     16220.189|                                80334|                                                     37.794|                                      0|                   684425|                                        321.992|                                   803|                                                       0.378|                                       0|\n",
            "|              France|              Europe|                33599863|                                     51660.815|                               105883|                                                    162.798|                                  26918|                   150804|                                        231.866|                                   281|                                                       0.432|                                      60|\n",
            "|             Germany|              Europe|                32344032|                                     38890.599|                               181064|                                                    217.712|                                  33311|                   147981|                                        177.933|                                    45|                                                       0.054|                                       4|\n",
            "|   Republic of Korea|     Western Pacific|                23791961|                                     46405.967|                               545637|                                                   1064.259|                                  85540|                    27249|                                         53.149|                                   485|                                                       0.946|                                      56|\n",
            "|  The United Kingdom|              Europe|                23522244|                                     34649.622|                                 2853|                                                      4.203|                                      0|                   188242|                                        277.291|                                     0|                                                         0.0|                                       0|\n",
            "|               Italy|              Europe|                21969725|                                     36836.313|                               123782|                                                    207.543|                                  24848|                   175952|                                        295.016|                                   447|                                                       0.749|                                      80|\n",
            "|  Russian Federation|              Europe|                19857571|                                     13607.184|                               328602|                                                    225.171|                                  47958|                   384976|                                        263.801|                                   630|                                                       0.432|                                      94|\n",
            "|               Japan|     Western Pacific|                19635246|                                     15524.822|                               863242|                                                    682.532|                                 100729|                    41575|                                         32.872|                                  2011|                                                        1.59|                                     282|\n",
            "|             Türkiye|              Europe|                16797750|                                     19916.927|                                    0|                                                        0.0|                                      0|                   100840|                                        119.565|                                     0|                                                         0.0|                                       0|\n",
            "|               Spain|              Europe|                13358722|                                     28223.081|                                16192|                                                     34.209|                                   6703|                   112903|                                        238.531|                                   303|                                                        0.64|                                      99|\n",
            "|            Viet Nam|     Western Pacific|                11424754|                                     11737.128|                                15802|                                                     16.234|                                   3699|                    43123|                                         44.302|                                     6|                                                       0.006|                                       1|\n",
            "|           Australia|     Western Pacific|                10084917|                                     39548.874|                                67015|                                                    262.805|                                   9251|                    14152|                                         55.498|                                   318|                                                       1.247|                                      75|\n",
            "|           Argentina|            Americas|                 9689861|                                      21439.75|                                11636|                                                     25.746|                                      0|                   129769|                                        287.126|                                    58|                                                       0.128|                                       0|\n",
            "|         Netherlands|              Europe|                 8392953|                                     48214.344|                                 7856|                                                      45.13|                                   1453|                    22609|                                         129.88|                                    10|                                                       0.057|                                       4|\n",
            "|Iran (Islamic Rep...|Eastern Mediterra...|                 7535272|                                      8971.315|                                 7773|                                                      9.254|                                   1090|                   144048|                                          171.5|                                   228|                                                       0.271|                                      29|\n",
            "|              Mexico|            Americas|                 7041181|                                      5461.127|                                 7299|                                                      5.661|                                      0|                   329622|                                        255.654|                                    54|                                                       0.042|                                       0|\n",
            "|               China|     Western Pacific|                 6655733|                                       452.375|                               254259|                                                     17.281|                                  39674|                    25088|                                          1.705|                                   282|                                                       0.019|                                      30|\n",
            "|           Indonesia|     South-East Asia|                 6382002|                                      2333.254|                                23194|                                                       8.48|                                   3513|                   157717|                                         57.661|                                   151|                                                       0.055|                                      21|\n",
            "+--------------------+--------------------+------------------------+----------------------------------------------+-------------------------------------+-----------------------------------------------------------+---------------------------------------+-------------------------+-----------------------------------------------+--------------------------------------+------------------------------------------------------------+----------------------------------------+\n",
            "only showing top 20 rows\n",
            "\n"
          ]
        }
      ]
    },
    {
      "cell_type": "code",
      "source": [
        "df.printSchema()"
      ],
      "metadata": {
        "colab": {
          "base_uri": "https://localhost:8080/"
        },
        "id": "DmRb1SmiI0ML",
        "outputId": "eed0cf9f-21a7-4af1-c1fb-cdae383d3a6c"
      },
      "execution_count": null,
      "outputs": [
        {
          "output_type": "stream",
          "name": "stdout",
          "text": [
            "root\n",
            " |-- Name: string (nullable = true)\n",
            " |-- WHO Region: string (nullable = true)\n",
            " |-- Cases - cumulative total: integer (nullable = true)\n",
            " |-- Cases - cumulative total per 100000 population: double (nullable = true)\n",
            " |-- Cases - newly reported in last 7 days: integer (nullable = true)\n",
            " |-- Cases - newly reported in last 7 days per 100000 population: double (nullable = true)\n",
            " |-- Cases - newly reported in last 24 hours: integer (nullable = true)\n",
            " |-- Deaths - cumulative total: integer (nullable = true)\n",
            " |-- Deaths - cumulative total per 100000 population: double (nullable = true)\n",
            " |-- Deaths - newly reported in last 7 days: integer (nullable = true)\n",
            " |-- Deaths - newly reported in last 7 days per 100000 population: double (nullable = true)\n",
            " |-- Deaths - newly reported in last 24 hours: integer (nullable = true)\n",
            "\n"
          ]
        }
      ]
    },
    {
      "cell_type": "code",
      "source": [
        "dfResutl = df.groupBy('WHO Region') \\\n",
        "             .sum('Cases - cumulative total') \\\n",
        "             .show()"
      ],
      "metadata": {
        "colab": {
          "base_uri": "https://localhost:8080/"
        },
        "id": "lmk8kWjoI3f5",
        "outputId": "3bab3e9d-0444-4e9e-c5ab-a8ea1ed10921"
      },
      "execution_count": null,
      "outputs": [
        {
          "output_type": "stream",
          "name": "stdout",
          "text": [
            "+--------------------+-----------------------------+\n",
            "|          WHO Region|sum(Cases - cumulative total)|\n",
            "+--------------------+-----------------------------+\n",
            "|              Europe|                    249105808|\n",
            "|     Western Pacific|                     85868508|\n",
            "|              Africa|                      9298893|\n",
            "|Eastern Mediterra...|                     22308851|\n",
            "|               Other|                          764|\n",
            "|            Americas|                    176342137|\n",
            "|     South-East Asia|                     60084208|\n",
            "+--------------------+-----------------------------+\n",
            "\n"
          ]
        }
      ]
    },
    {
      "cell_type": "code",
      "source": [
        "cases = df.groupBy('WHO Region').sum('Cases - cumulative total','Cases - cumulative total per 100000 population','Cases - newly reported in last 7 days','Cases - newly reported in last 7 days per 100000 population','Cases - newly reported in last 24 hours')\n",
        "cases.show()\n",
        "cases.write.option(\"header\",True).csv(\"WHO-COVID19-global/cases\")\n"
      ],
      "metadata": {
        "colab": {
          "base_uri": "https://localhost:8080/"
        },
        "id": "-11V1jpKJOxH",
        "outputId": "b6fdab8e-09df-499f-d920-5b5c80ffe883"
      },
      "execution_count": null,
      "outputs": [
        {
          "output_type": "stream",
          "name": "stdout",
          "text": [
            "+--------------------+-----------------------------+---------------------------------------------------+------------------------------------------+----------------------------------------------------------------+--------------------------------------------+\n",
            "|          WHO Region|sum(Cases - cumulative total)|sum(Cases - cumulative total per 100000 population)|sum(Cases - newly reported in last 7 days)|sum(Cases - newly reported in last 7 days per 100000 population)|sum(Cases - newly reported in last 24 hours)|\n",
            "+--------------------+-----------------------------+---------------------------------------------------+------------------------------------------+----------------------------------------------------------------+--------------------------------------------+\n",
            "|              Europe|                    249105808|                                        2038171.577|                                    988960|                                               5609.703000000002|                                      182316|\n",
            "|     Western Pacific|                     85868508|                                         607137.069|                                   1806067|                                               5451.098000000001|                                      247343|\n",
            "|              Africa|                      9298893|                                 203666.50600000008|                                     10542|                                               935.7560000000001|                                         238|\n",
            "|Eastern Mediterra...|                     22308851|                                         164737.953|                                     27835|                                                         355.088|                                        2933|\n",
            "|               Other|                          764|                                                0.0|                                         0|                                                             0.0|                                           0|\n",
            "|            Americas|                    176342137|                                 1208742.0069999995|                                    696441|                                                        4434.753|                                       28836|\n",
            "|     South-East Asia|                     60084208|                                          65053.017|                                     82449|                                              61.922999999999995|                                       10916|\n",
            "+--------------------+-----------------------------+---------------------------------------------------+------------------------------------------+----------------------------------------------------------------+--------------------------------------------+\n",
            "\n"
          ]
        }
      ]
    },
    {
      "cell_type": "code",
      "source": [
        "death1 = df.groupBy('WHO Region').sum('Deaths - cumulative total','Deaths - cumulative total per 100000 population','Deaths - newly reported in last 7 days','Deaths - newly reported in last 7 days per 100000 population','Deaths - newly reported in last 24 hours')\n",
        "death1.show()\n",
        "death1.write.option(\"header\",True).csv(\"WHO-COVID19-global/deaths\")\n"
      ],
      "metadata": {
        "colab": {
          "base_uri": "https://localhost:8080/"
        },
        "id": "r_ZQdPBkJqU0",
        "outputId": "771da8c3-2b2d-41a6-a9a7-615b8eaa4e9b"
      },
      "execution_count": null,
      "outputs": [
        {
          "output_type": "stream",
          "name": "stdout",
          "text": [
            "+--------------------+------------------------------+----------------------------------------------------+-------------------------------------------+-----------------------------------------------------------------+---------------------------------------------+\n",
            "|          WHO Region|sum(Deaths - cumulative total)|sum(Deaths - cumulative total per 100000 population)|sum(Deaths - newly reported in last 7 days)|sum(Deaths - newly reported in last 7 days per 100000 population)|sum(Deaths - newly reported in last 24 hours)|\n",
            "+--------------------+------------------------------+----------------------------------------------------+-------------------------------------------+-----------------------------------------------------------------+---------------------------------------------+\n",
            "|              Europe|                       2080678|                                  13557.154999999997|                                       2626|                                               24.577999999999996|                                          523|\n",
            "|     Western Pacific|                        263345|                                  1600.8790000000001|                                       3555|                                                            6.974|                                          514|\n",
            "|              Africa|                        174350|                                  1435.9070000000002|                                         42|                                                            1.535|                                            1|\n",
            "|Eastern Mediterra...|                        342137|                                  1349.9960000000003|                                        297|                                               0.6570000000000001|                                           33|\n",
            "|               Other|                            13|                                                 0.0|                                          0|                                                              0.0|                                            0|\n",
            "|            Americas|                       2821706|                                            9417.268|                                       4500|                                                           13.143|                                          136|\n",
            "|     South-East Asia|                        796201|                                  385.42699999999996|                                        531|                                               0.4210000000000001|                                           70|\n",
            "+--------------------+------------------------------+----------------------------------------------------+-------------------------------------------+-----------------------------------------------------------------+---------------------------------------------+\n",
            "\n"
          ]
        }
      ]
    }
  ]
}